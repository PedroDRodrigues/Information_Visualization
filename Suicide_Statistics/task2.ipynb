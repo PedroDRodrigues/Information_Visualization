{
 "cells": [
  {
   "cell_type": "code",
   "execution_count": 460,
   "metadata": {},
   "outputs": [],
   "source": [
    "import pandas as pd"
   ]
  },
  {
   "cell_type": "code",
   "execution_count": 461,
   "metadata": {},
   "outputs": [
    {
     "name": "stdout",
     "output_type": "stream",
     "text": [
      "Suicide Statistics Dataframe\n",
      "   country  year     sex          age  suicides_no  population\n",
      "0  Albania  1985  female  15-24 years          NaN    277900.0\n",
      "1  Albania  1985  female  25-34 years          NaN    246800.0\n",
      "2  Albania  1985  female  35-54 years          NaN    267500.0\n",
      "3  Albania  1985  female   5-14 years          NaN    298300.0\n",
      "4  Albania  1985  female  55-74 years          NaN    138700.0\n",
      "\n",
      " Country ISO Code Dataframe\n",
      "  English short name lower case Alpha-3 code\n",
      "0                      Zimbabwe          ZWE\n",
      "1                        Zambia          ZMB\n",
      "2                         Yemen          YEM\n",
      "3                Western Sahara          ESH\n",
      "4             Wallis and Futuna          WLF\n"
     ]
    }
   ],
   "source": [
    "suicide_df = pd.read_csv('who_suicide_statistics.csv')\n",
    "\n",
    "country_df = pd.read_csv('iso-country-codes.csv')\n",
    "iso_code_df = country_df[[\"English short name lower case\", \"Alpha-3 code\"]]\n",
    "\n",
    "print(\"Suicide Statistics Dataframe\")\n",
    "print(suicide_df.head())\n",
    "print(\"\\n Country ISO Code Dataframe\")\n",
    "print(iso_code_df.head())"
   ]
  },
  {
   "cell_type": "code",
   "execution_count": 462,
   "metadata": {},
   "outputs": [
    {
     "data": {
      "text/plain": [
       "country           0\n",
       "year              0\n",
       "sex               0\n",
       "age               0\n",
       "suicides_no    2256\n",
       "population     5460\n",
       "dtype: int64"
      ]
     },
     "execution_count": 462,
     "metadata": {},
     "output_type": "execute_result"
    }
   ],
   "source": [
    "# check if and where there's null values\n",
    "suicide_df.isnull().sum()"
   ]
  },
  {
   "cell_type": "code",
   "execution_count": 463,
   "metadata": {},
   "outputs": [
    {
     "data": {
      "text/plain": [
       "country        0\n",
       "year           0\n",
       "sex            0\n",
       "age            0\n",
       "suicides_no    0\n",
       "population     0\n",
       "dtype: int64"
      ]
     },
     "execution_count": 463,
     "metadata": {},
     "output_type": "execute_result"
    }
   ],
   "source": [
    "# replace null values with 0 (could drop row entirely)\n",
    "suicide_df[\"suicides_no\"] = suicide_df[\"suicides_no\"].fillna(0)\n",
    "suicide_df[\"population\"] = suicide_df[\"population\"].fillna(0)\n",
    "suicide_df.isnull().sum()"
   ]
  },
  {
   "cell_type": "code",
   "execution_count": 464,
   "metadata": {},
   "outputs": [
    {
     "name": "stdout",
     "output_type": "stream",
     "text": [
      "Average Suicide Nº by Country\n",
      "               country  avg_suicide_no\n",
      "0              Albania        5.295699\n",
      "1             Anguilla        0.005747\n",
      "2  Antigua and Barbuda        0.032738\n",
      "3            Argentina      211.400901\n",
      "4              Armenia        5.766667\n"
     ]
    }
   ],
   "source": [
    "# group data by country, compute mean for each country\n",
    "grouped_by_country = suicide_df.groupby(\"country\")\n",
    "suicide_avg_df = grouped_by_country[\"suicides_no\"].mean().reset_index()\n",
    "suicide_avg_df.rename(columns={'suicides_no': 'avg_suicide_no'}, inplace=True)\n",
    "\n",
    "print(\"Average Suicide Nº by Country\")\n",
    "print(suicide_avg_df.head())\n",
    "\n",
    "#suicide_df = suicide_df.merge(suicide_avg_df, on=\"country\", suffixes=(\"\", \"_avg\"))\n",
    "#suicide_df.rename(columns={'suicides_no_avg': 'avg_suicides_per_country'}, inplace=True)\n",
    "#suicide_df.head()"
   ]
  },
  {
   "cell_type": "code",
   "execution_count": 465,
   "metadata": {},
   "outputs": [
    {
     "data": {
      "text/html": [
       "<div>\n",
       "<style scoped>\n",
       "    .dataframe tbody tr th:only-of-type {\n",
       "        vertical-align: middle;\n",
       "    }\n",
       "\n",
       "    .dataframe tbody tr th {\n",
       "        vertical-align: top;\n",
       "    }\n",
       "\n",
       "    .dataframe thead th {\n",
       "        text-align: right;\n",
       "    }\n",
       "</style>\n",
       "<table border=\"1\" class=\"dataframe\">\n",
       "  <thead>\n",
       "    <tr style=\"text-align: right;\">\n",
       "      <th></th>\n",
       "      <th>country</th>\n",
       "      <th>Alpha-3 code</th>\n",
       "      <th>avg_suicide_no</th>\n",
       "    </tr>\n",
       "  </thead>\n",
       "  <tbody>\n",
       "    <tr>\n",
       "      <th>0</th>\n",
       "      <td>Albania</td>\n",
       "      <td>ALB</td>\n",
       "      <td>5.295699</td>\n",
       "    </tr>\n",
       "    <tr>\n",
       "      <th>1</th>\n",
       "      <td>Anguilla</td>\n",
       "      <td>AIA</td>\n",
       "      <td>0.005747</td>\n",
       "    </tr>\n",
       "    <tr>\n",
       "      <th>2</th>\n",
       "      <td>Antigua and Barbuda</td>\n",
       "      <td>ATG</td>\n",
       "      <td>0.032738</td>\n",
       "    </tr>\n",
       "    <tr>\n",
       "      <th>3</th>\n",
       "      <td>Argentina</td>\n",
       "      <td>ARG</td>\n",
       "      <td>211.400901</td>\n",
       "    </tr>\n",
       "    <tr>\n",
       "      <th>4</th>\n",
       "      <td>Armenia</td>\n",
       "      <td>ARM</td>\n",
       "      <td>5.766667</td>\n",
       "    </tr>\n",
       "    <tr>\n",
       "      <th>...</th>\n",
       "      <td>...</td>\n",
       "      <td>...</td>\n",
       "      <td>...</td>\n",
       "    </tr>\n",
       "    <tr>\n",
       "      <th>136</th>\n",
       "      <td>Uruguay</td>\n",
       "      <td>URY</td>\n",
       "      <td>35.899510</td>\n",
       "    </tr>\n",
       "    <tr>\n",
       "      <th>137</th>\n",
       "      <td>Uzbekistan</td>\n",
       "      <td>UZB</td>\n",
       "      <td>122.397222</td>\n",
       "    </tr>\n",
       "    <tr>\n",
       "      <th>138</th>\n",
       "      <td>Venezuela (Bolivarian Republic of)</td>\n",
       "      <td>NaN</td>\n",
       "      <td>76.833333</td>\n",
       "    </tr>\n",
       "    <tr>\n",
       "      <th>139</th>\n",
       "      <td>Virgin Islands (USA)</td>\n",
       "      <td>NaN</td>\n",
       "      <td>0.470833</td>\n",
       "    </tr>\n",
       "    <tr>\n",
       "      <th>140</th>\n",
       "      <td>Zimbabwe</td>\n",
       "      <td>ZWE</td>\n",
       "      <td>63.666667</td>\n",
       "    </tr>\n",
       "  </tbody>\n",
       "</table>\n",
       "<p>141 rows × 3 columns</p>\n",
       "</div>"
      ],
      "text/plain": [
       "                                country Alpha-3 code  avg_suicide_no\n",
       "0                               Albania          ALB        5.295699\n",
       "1                              Anguilla          AIA        0.005747\n",
       "2                   Antigua and Barbuda          ATG        0.032738\n",
       "3                             Argentina          ARG      211.400901\n",
       "4                               Armenia          ARM        5.766667\n",
       "..                                  ...          ...             ...\n",
       "136                             Uruguay          URY       35.899510\n",
       "137                          Uzbekistan          UZB      122.397222\n",
       "138  Venezuela (Bolivarian Republic of)          NaN       76.833333\n",
       "139                Virgin Islands (USA)          NaN        0.470833\n",
       "140                            Zimbabwe          ZWE       63.666667\n",
       "\n",
       "[141 rows x 3 columns]"
      ]
     },
     "execution_count": 465,
     "metadata": {},
     "output_type": "execute_result"
    }
   ],
   "source": [
    "#suicide_df = suicide_df.merge(iso_code_df[['English short name lower case', 'Alpha-3 code']], left_on='country', right_on='English short name lower case', how='left')\n",
    "#suicide_df.head()\n",
    "\n",
    "# merge suicide average df with ISO codes df in order to identify each country by it's ISO code (alpha-3)\n",
    "suicide_avg_df = suicide_avg_df.merge(iso_code_df, left_on='country', right_on='English short name lower case', how='left')\n",
    "suicide_avg_df.drop(columns=['English short name lower case'], inplace=True)\n",
    "suicide_avg_df = suicide_avg_df[['country', 'Alpha-3 code', 'avg_suicide_no']]\n",
    "suicide_avg_df"
   ]
  }
 ],
 "metadata": {
  "kernelspec": {
   "display_name": "Python 3",
   "language": "python",
   "name": "python3"
  },
  "language_info": {
   "codemirror_mode": {
    "name": "ipython",
    "version": 3
   },
   "file_extension": ".py",
   "mimetype": "text/x-python",
   "name": "python",
   "nbconvert_exporter": "python",
   "pygments_lexer": "ipython3",
   "version": "3.10.7"
  },
  "orig_nbformat": 4
 },
 "nbformat": 4,
 "nbformat_minor": 2
}
