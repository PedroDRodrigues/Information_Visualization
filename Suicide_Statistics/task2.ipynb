{
 "cells": [
  {
   "cell_type": "code",
   "execution_count": 62,
   "metadata": {},
   "outputs": [],
   "source": [
    "import pandas as pd"
   ]
  },
  {
   "cell_type": "code",
   "execution_count": 63,
   "metadata": {},
   "outputs": [
    {
     "name": "stdout",
     "output_type": "stream",
     "text": [
      "Suicide Statistics Dataframe\n",
      "   country  year     sex          age  suicides_no  population\n",
      "0  Albania  1985  female  15-24 years          NaN    277900.0\n",
      "1  Albania  1985  female  25-34 years          NaN    246800.0\n",
      "2  Albania  1985  female  35-54 years          NaN    267500.0\n",
      "3  Albania  1985  female   5-14 years          NaN    298300.0\n",
      "4  Albania  1985  female  55-74 years          NaN    138700.0\n",
      "\n",
      " Country ISO Code Dataframe\n",
      "             name     iso_3166-2\n",
      "0     Afghanistan  ISO 3166-2:AF\n",
      "1   Åland Islands  ISO 3166-2:AX\n",
      "2         Albania  ISO 3166-2:AL\n",
      "3         Algeria  ISO 3166-2:DZ\n",
      "4  American Samoa  ISO 3166-2:AS\n"
     ]
    }
   ],
   "source": [
    "suicide_df = pd.read_csv('who_suicide_statistics.csv')\n",
    "\n",
    "country_df = pd.read_csv('country_codes.csv')\n",
    "iso_code_df = country_df[[\"name\", \"iso_3166-2\"]]\n",
    "\n",
    "print(\"Suicide Statistics Dataframe\")\n",
    "print(suicide_df.head())\n",
    "print(\"\\n Country ISO Code Dataframe\")\n",
    "print(iso_code_df.head())"
   ]
  },
  {
   "cell_type": "code",
   "execution_count": 64,
   "metadata": {},
   "outputs": [
    {
     "data": {
      "text/plain": [
       "country           0\n",
       "year              0\n",
       "sex               0\n",
       "age               0\n",
       "suicides_no    2256\n",
       "population     5460\n",
       "dtype: int64"
      ]
     },
     "execution_count": 64,
     "metadata": {},
     "output_type": "execute_result"
    }
   ],
   "source": [
    "# check if and where there's null values\n",
    "suicide_df.isnull().sum()"
   ]
  },
  {
   "cell_type": "code",
   "execution_count": 65,
   "metadata": {},
   "outputs": [],
   "source": [
    "# remove rows with null values \n",
    "suicide_df.dropna(inplace=True)"
   ]
  },
  {
   "cell_type": "code",
   "execution_count": 66,
   "metadata": {},
   "outputs": [
    {
     "name": "stdout",
     "output_type": "stream",
     "text": [
      "Average Suicide Nº by Country\n",
      "               country  avg_suicide_no\n",
      "0              Albania        7.462121\n",
      "1  Antigua and Barbuda        0.032738\n",
      "2            Argentina      211.400901\n",
      "3              Armenia        6.307292\n",
      "4                Aruba        0.500000\n"
     ]
    }
   ],
   "source": [
    "# group data by country, compute mean for each country\n",
    "grouped_by_country = suicide_df.groupby(\"country\")\n",
    "\n",
    "suicide_avg_df = grouped_by_country[\"suicides_no\"].mean().reset_index()\n",
    "suicide_avg_df.rename(columns={'suicides_no': 'avg_suicide_no'}, inplace=True)\n",
    "\n",
    "print(\"Average Suicide Nº by Country\")\n",
    "print(suicide_avg_df.head())\n"
   ]
  },
  {
   "cell_type": "code",
   "execution_count": null,
   "metadata": {},
   "outputs": [],
   "source": []
  },
  {
   "cell_type": "code",
   "execution_count": 69,
   "metadata": {},
   "outputs": [
    {
     "data": {
      "text/html": [
       "<div>\n",
       "<style scoped>\n",
       "    .dataframe tbody tr th:only-of-type {\n",
       "        vertical-align: middle;\n",
       "    }\n",
       "\n",
       "    .dataframe tbody tr th {\n",
       "        vertical-align: top;\n",
       "    }\n",
       "\n",
       "    .dataframe thead th {\n",
       "        text-align: right;\n",
       "    }\n",
       "</style>\n",
       "<table border=\"1\" class=\"dataframe\">\n",
       "  <thead>\n",
       "    <tr style=\"text-align: right;\">\n",
       "      <th></th>\n",
       "      <th>country</th>\n",
       "      <th>iso_3166-2</th>\n",
       "      <th>avg_suicide_no</th>\n",
       "    </tr>\n",
       "  </thead>\n",
       "  <tbody>\n",
       "    <tr>\n",
       "      <th>0</th>\n",
       "      <td>Albania</td>\n",
       "      <td>ISO 3166-2:AL</td>\n",
       "      <td>7.462121</td>\n",
       "    </tr>\n",
       "    <tr>\n",
       "      <th>1</th>\n",
       "      <td>Antigua and Barbuda</td>\n",
       "      <td>ISO 3166-2:AG</td>\n",
       "      <td>0.032738</td>\n",
       "    </tr>\n",
       "    <tr>\n",
       "      <th>2</th>\n",
       "      <td>Argentina</td>\n",
       "      <td>ISO 3166-2:AR</td>\n",
       "      <td>211.400901</td>\n",
       "    </tr>\n",
       "    <tr>\n",
       "      <th>3</th>\n",
       "      <td>Armenia</td>\n",
       "      <td>ISO 3166-2:AM</td>\n",
       "      <td>6.307292</td>\n",
       "    </tr>\n",
       "    <tr>\n",
       "      <th>4</th>\n",
       "      <td>Aruba</td>\n",
       "      <td>ISO 3166-2:AW</td>\n",
       "      <td>0.500000</td>\n",
       "    </tr>\n",
       "    <tr>\n",
       "      <th>...</th>\n",
       "      <td>...</td>\n",
       "      <td>...</td>\n",
       "      <td>...</td>\n",
       "    </tr>\n",
       "    <tr>\n",
       "      <th>101</th>\n",
       "      <td>United Arab Emirates</td>\n",
       "      <td>ISO 3166-2:AE</td>\n",
       "      <td>8.638889</td>\n",
       "    </tr>\n",
       "    <tr>\n",
       "      <th>102</th>\n",
       "      <td>United States of America</td>\n",
       "      <td>ISO 3166-2:US</td>\n",
       "      <td>2705.858108</td>\n",
       "    </tr>\n",
       "    <tr>\n",
       "      <th>103</th>\n",
       "      <td>Uruguay</td>\n",
       "      <td>ISO 3166-2:UY</td>\n",
       "      <td>36.987374</td>\n",
       "    </tr>\n",
       "    <tr>\n",
       "      <th>104</th>\n",
       "      <td>Uzbekistan</td>\n",
       "      <td>ISO 3166-2:UZ</td>\n",
       "      <td>126.617816</td>\n",
       "    </tr>\n",
       "    <tr>\n",
       "      <th>105</th>\n",
       "      <td>Venezuela (Bolivarian Republic of)</td>\n",
       "      <td>ISO 3166-2:VE</td>\n",
       "      <td>76.833333</td>\n",
       "    </tr>\n",
       "  </tbody>\n",
       "</table>\n",
       "<p>106 rows × 3 columns</p>\n",
       "</div>"
      ],
      "text/plain": [
       "                                country     iso_3166-2  avg_suicide_no\n",
       "0                               Albania  ISO 3166-2:AL        7.462121\n",
       "1                   Antigua and Barbuda  ISO 3166-2:AG        0.032738\n",
       "2                             Argentina  ISO 3166-2:AR      211.400901\n",
       "3                               Armenia  ISO 3166-2:AM        6.307292\n",
       "4                                 Aruba  ISO 3166-2:AW        0.500000\n",
       "..                                  ...            ...             ...\n",
       "101                United Arab Emirates  ISO 3166-2:AE        8.638889\n",
       "102            United States of America  ISO 3166-2:US     2705.858108\n",
       "103                             Uruguay  ISO 3166-2:UY       36.987374\n",
       "104                          Uzbekistan  ISO 3166-2:UZ      126.617816\n",
       "105  Venezuela (Bolivarian Republic of)  ISO 3166-2:VE       76.833333\n",
       "\n",
       "[106 rows x 3 columns]"
      ]
     },
     "execution_count": 69,
     "metadata": {},
     "output_type": "execute_result"
    }
   ],
   "source": [
    "# merge suicide average df with ISO codes df in order to identify each country by it's ISO code (alpha-3)\n",
    "suicide_avg_df = suicide_avg_df.merge(iso_code_df, left_on='country', right_on='name', how='left')\n",
    "suicide_avg_df.drop(columns=['name'], inplace=True)\n",
    "suicide_avg_df = suicide_avg_df[['country', 'iso_3166-2', 'avg_suicide_no']]\n",
    "suicide_avg_df\n"
   ]
  }
 ],
 "metadata": {
  "kernelspec": {
   "display_name": "Python 3",
   "language": "python",
   "name": "python3"
  },
  "language_info": {
   "codemirror_mode": {
    "name": "ipython",
    "version": 3
   },
   "file_extension": ".py",
   "mimetype": "text/x-python",
   "name": "python",
   "nbconvert_exporter": "python",
   "pygments_lexer": "ipython3",
   "version": "3.10.7"
  },
  "orig_nbformat": 4
 },
 "nbformat": 4,
 "nbformat_minor": 2
}
